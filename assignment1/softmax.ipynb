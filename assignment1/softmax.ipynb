{
 "cells": [
  {
   "cell_type": "markdown",
   "metadata": {},
   "source": [
    "# Softmax exercise\n",
    "\n",
    "*Complete and hand in this completed worksheet (including its outputs and any supporting code outside of the worksheet) with your assignment submission. For more details see the [assignments page](http://vision.stanford.edu/teaching/cs231n/assignments.html) on the course website.*\n",
    "\n",
    "This exercise is analogous to the SVM exercise. You will:\n",
    "\n",
    "- implement a fully-vectorized **loss function** for the Softmax classifier\n",
    "- implement the fully-vectorized expression for its **analytic gradient**\n",
    "- **check your implementation** with numerical gradient\n",
    "- use a validation set to **tune the learning rate and regularization** strength\n",
    "- **optimize** the loss function with **SGD**\n",
    "- **visualize** the final learned weights\n"
   ]
  },
  {
   "cell_type": "code",
   "execution_count": 1,
   "metadata": {
    "collapsed": false
   },
   "outputs": [],
   "source": [
    "import random\n",
    "import numpy as np\n",
    "from cs231n.data_utils import load_CIFAR10\n",
    "import matplotlib.pyplot as plt\n",
    "%matplotlib inline\n",
    "plt.rcParams['figure.figsize'] = (10.0, 8.0) # set default size of plots\n",
    "plt.rcParams['image.interpolation'] = 'nearest'\n",
    "plt.rcParams['image.cmap'] = 'gray'\n",
    "\n",
    "# for auto-reloading extenrnal modules\n",
    "# see http://stackoverflow.com/questions/1907993/autoreload-of-modules-in-ipython\n",
    "%load_ext autoreload\n",
    "%autoreload 2"
   ]
  },
  {
   "cell_type": "code",
   "execution_count": 2,
   "metadata": {
    "collapsed": false
   },
   "outputs": [
    {
     "name": "stdout",
     "output_type": "stream",
     "text": [
      "Train data shape:  (49000, 3073)\n",
      "Train labels shape:  (49000,)\n",
      "Validation data shape:  (1000, 3073)\n",
      "Validation labels shape:  (1000,)\n",
      "Test data shape:  (1000, 3073)\n",
      "Test labels shape:  (1000,)\n",
      "dev data shape:  (500, 3073)\n",
      "dev labels shape:  (500,)\n"
     ]
    }
   ],
   "source": [
    "def get_CIFAR10_data(num_training=49000, num_validation=1000, num_test=1000, num_dev=500):\n",
    "  \"\"\"\n",
    "  Load the CIFAR-10 dataset from disk and perform preprocessing to prepare\n",
    "  it for the linear classifier. These are the same steps as we used for the\n",
    "  SVM, but condensed to a single function.  \n",
    "  \"\"\"\n",
    "  # Load the raw CIFAR-10 data\n",
    "  cifar10_dir = 'cs231n/datasets/cifar-10-batches-py'\n",
    "  X_train, y_train, X_test, y_test = load_CIFAR10(cifar10_dir)\n",
    "  \n",
    "  # subsample the data\n",
    "  mask = range(num_training, num_training + num_validation)\n",
    "  X_val = X_train[mask]\n",
    "  y_val = y_train[mask]\n",
    "  mask = range(num_training)\n",
    "  X_train = X_train[mask]\n",
    "  y_train = y_train[mask]\n",
    "  mask = range(num_test)\n",
    "  X_test = X_test[mask]\n",
    "  y_test = y_test[mask]\n",
    "  mask = np.random.choice(num_training, num_dev, replace=False)\n",
    "  X_dev = X_train[mask]\n",
    "  y_dev = y_train[mask]\n",
    "  \n",
    "  # Preprocessing: reshape the image data into rows\n",
    "  X_train = np.reshape(X_train, (X_train.shape[0], -1))\n",
    "  X_val = np.reshape(X_val, (X_val.shape[0], -1))\n",
    "  X_test = np.reshape(X_test, (X_test.shape[0], -1))\n",
    "  X_dev = np.reshape(X_dev, (X_dev.shape[0], -1))\n",
    "  \n",
    "  # Normalize the data: subtract the mean image\n",
    "  mean_image = np.mean(X_train, axis = 0)\n",
    "  X_train -= mean_image\n",
    "  X_val -= mean_image\n",
    "  X_test -= mean_image\n",
    "  X_dev -= mean_image\n",
    "  \n",
    "  # add bias dimension and transform into columns\n",
    "  X_train = np.hstack([X_train, np.ones((X_train.shape[0], 1))])\n",
    "  X_val = np.hstack([X_val, np.ones((X_val.shape[0], 1))])\n",
    "  X_test = np.hstack([X_test, np.ones((X_test.shape[0], 1))])\n",
    "  X_dev = np.hstack([X_dev, np.ones((X_dev.shape[0], 1))])\n",
    "  \n",
    "  return X_train, y_train, X_val, y_val, X_test, y_test, X_dev, y_dev\n",
    "\n",
    "\n",
    "# Invoke the above function to get our data.\n",
    "X_train, y_train, X_val, y_val, X_test, y_test, X_dev, y_dev = get_CIFAR10_data()\n",
    "print 'Train data shape: ', X_train.shape\n",
    "print 'Train labels shape: ', y_train.shape\n",
    "print 'Validation data shape: ', X_val.shape\n",
    "print 'Validation labels shape: ', y_val.shape\n",
    "print 'Test data shape: ', X_test.shape\n",
    "print 'Test labels shape: ', y_test.shape\n",
    "print 'dev data shape: ', X_dev.shape\n",
    "print 'dev labels shape: ', y_dev.shape"
   ]
  },
  {
   "cell_type": "markdown",
   "metadata": {},
   "source": [
    "## Softmax Classifier\n",
    "\n",
    "Your code for this section will all be written inside **cs231n/classifiers/softmax.py**. \n"
   ]
  },
  {
   "cell_type": "code",
   "execution_count": 5,
   "metadata": {
    "collapsed": false
   },
   "outputs": [
    {
     "name": "stdout",
     "output_type": "stream",
     "text": [
      "loss: 2.303849\n",
      "sanity check: 2.302585\n"
     ]
    }
   ],
   "source": [
    "# First implement the naive softmax loss function with nested loops.\n",
    "# Open the file cs231n/classifiers/softmax.py and implement the\n",
    "# softmax_loss_naive function.\n",
    "\n",
    "from cs231n.classifiers.softmax import softmax_loss_naive\n",
    "import time\n",
    "\n",
    "# Generate a random softmax weight matrix and use it to compute the loss.\n",
    "W = np.random.randn(3073, 10) * 0.0001\n",
    "loss, grad = softmax_loss_naive(W, X_dev, y_dev, 0.0)\n",
    "\n",
    "# As a rough sanity check, our loss should be something close to -log(0.1).\n",
    "print 'loss: %f' % loss\n",
    "print 'sanity check: %f' % (-np.log(0.1))"
   ]
  },
  {
   "cell_type": "code",
   "execution_count": 20,
   "metadata": {
    "collapsed": false
   },
   "outputs": [
    {
     "name": "stdout",
     "output_type": "stream",
     "text": [
      "numerical: 1.146487 analytic: 1.146487, relative error: 3.419945e-08\n",
      "numerical: -1.046278 analytic: -1.046278, relative error: 4.614021e-08\n",
      "numerical: -6.047666 analytic: -6.047667, relative error: 2.165036e-09\n",
      "numerical: 5.826794 analytic: 5.826794, relative error: 2.009450e-08\n",
      "numerical: -3.270227 analytic: -3.270227, relative error: 9.553204e-09\n",
      "numerical: 0.709763 analytic: 0.709763, relative error: 7.064689e-08\n",
      "numerical: -1.265497 analytic: -1.265497, relative error: 1.549759e-08\n",
      "numerical: -2.211140 analytic: -2.211140, relative error: 2.811984e-08\n",
      "numerical: 2.884851 analytic: 2.884851, relative error: 1.546130e-08\n",
      "numerical: 2.322579 analytic: 2.322578, relative error: 3.574508e-08\n",
      "numerical: 3.067228 analytic: 3.061713, relative error: 8.998271e-04\n",
      "numerical: -1.233819 analytic: -1.230469, relative error: 1.359407e-03\n",
      "numerical: -0.071908 analytic: -0.093199, relative error: 1.289500e-01\n",
      "numerical: 2.070190 analytic: 2.071580, relative error: 3.355648e-04\n",
      "numerical: 0.772071 analytic: 0.768406, relative error: 2.378846e-03\n",
      "numerical: 1.128584 analytic: 1.137195, relative error: 3.800332e-03\n",
      "numerical: -1.003619 analytic: -1.008945, relative error: 2.646398e-03\n",
      "numerical: 1.367096 analytic: 1.369494, relative error: 8.765120e-04\n",
      "numerical: -5.704949 analytic: -5.721197, relative error: 1.421980e-03\n",
      "numerical: -0.365125 analytic: -0.374278, relative error: 1.237892e-02\n"
     ]
    }
   ],
   "source": [
    "# Complete the implementation of softmax_loss_naive and implement a (naive)\n",
    "# version of the gradient that uses nested loops.\n",
    "loss, grad = softmax_loss_naive(W, X_dev, y_dev, 0.0)\n",
    "\n",
    "# As we did for the SVM, use numeric gradient checking as a debugging tool.\n",
    "# The numeric gradient should be close to the analytic gradient.\n",
    "from cs231n.gradient_check import grad_check_sparse\n",
    "f = lambda w: softmax_loss_naive(w, X_dev, y_dev, 0.0)[0]\n",
    "grad_numerical = grad_check_sparse(f, W, grad, 10)\n",
    "\n",
    "# similar to SVM case, do another gradient check with regularization\n",
    "loss, grad = softmax_loss_naive(W, X_dev, y_dev, 1e2)\n",
    "f = lambda w: softmax_loss_naive(w, X_dev, y_dev, 1e2)[0]\n",
    "grad_numerical = grad_check_sparse(f, W, grad, 10)"
   ]
  },
  {
   "cell_type": "markdown",
   "metadata": {},
   "source": [
    "## Inline Question 1:\n",
    "Why do we expect our loss to be close to -log(0.1)? Explain briefly.**\n",
    "\n",
    "**Your answer:** *Fill this in*\n"
   ]
  },
  {
   "cell_type": "code",
   "execution_count": 21,
   "metadata": {
    "collapsed": false
   },
   "outputs": [
    {
     "name": "stdout",
     "output_type": "stream",
     "text": [
      "numerical: 1.788884 analytic: 1.788884, relative error: 1.657308e-08\n",
      "numerical: 1.338251 analytic: 1.338251, relative error: 3.739017e-08\n",
      "numerical: 0.233057 analytic: 0.233057, relative error: 1.189247e-07\n",
      "numerical: 2.921272 analytic: 2.921272, relative error: 8.141799e-09\n",
      "numerical: 2.337571 analytic: 2.337571, relative error: 2.850122e-08\n",
      "numerical: -3.323627 analytic: -3.323628, relative error: 9.151787e-09\n",
      "numerical: -3.509228 analytic: -3.509228, relative error: 5.329841e-09\n",
      "numerical: 1.712747 analytic: 1.712747, relative error: 2.259396e-08\n",
      "numerical: -1.846928 analytic: -1.846928, relative error: 9.168721e-09\n",
      "numerical: -1.474616 analytic: -1.474616, relative error: 1.289572e-08\n",
      "numerical: 4.413775 analytic: 4.400910, relative error: 1.459581e-03\n",
      "numerical: 0.210047 analytic: 0.228803, relative error: 4.273941e-02\n",
      "numerical: -0.321464 analytic: -0.327125, relative error: 8.728827e-03\n",
      "numerical: 2.657592 analytic: 2.660293, relative error: 5.079134e-04\n",
      "numerical: 0.941582 analytic: 0.937525, relative error: 2.159254e-03\n",
      "numerical: 0.772153 analytic: 0.771870, relative error: 1.828319e-04\n",
      "numerical: 5.107560 analytic: 5.108787, relative error: 1.200848e-04\n",
      "numerical: 0.801830 analytic: 0.788804, relative error: 8.189353e-03\n",
      "numerical: 2.587341 analytic: 2.599947, relative error: 2.430021e-03\n",
      "numerical: -1.467125 analytic: -1.471045, relative error: 1.334309e-03\n"
     ]
    }
   ],
   "source": [
    "from cs231n.classifiers.softmax import softmax_loss_vectorized\n",
    "\n",
    "loss, grad = softmax_loss_vectorized(W, X_dev, y_dev, 0.0)\n",
    "\n",
    "f = lambda w: softmax_loss_vectorized(w, X_dev, y_dev, 0.0)[0]\n",
    "grad_numerical = grad_check_sparse(f, W, grad, 10)\n",
    "\n",
    "loss, grad = softmax_loss_vectorized(W, X_dev, y_dev, 1e2)\n",
    "f = lambda w: softmax_loss_vectorized(w, X_dev, y_dev, 1e2)[0]\n",
    "grad_numerical = grad_check_sparse(f, W, grad, 10)"
   ]
  },
  {
   "cell_type": "code",
   "execution_count": 22,
   "metadata": {
    "collapsed": false
   },
   "outputs": [
    {
     "name": "stdout",
     "output_type": "stream",
     "text": [
      "naive loss: 2.303849e+00 computed in 0.472634s\n",
      "vectorized loss: 2.303849e+00 computed in 0.015044s\n",
      "Loss difference: 0.000000\n",
      "Gradient difference: 0.000000\n"
     ]
    }
   ],
   "source": [
    "# Now that we have a naive implementation of the softmax loss function and its gradient,\n",
    "# implement a vectorized version in softmax_loss_vectorized.\n",
    "# The two versions should compute the same results, but the vectorized version should be\n",
    "# much faster.\n",
    "tic = time.time()\n",
    "loss_naive, grad_naive = softmax_loss_naive(W, X_dev, y_dev, 0.00001)\n",
    "toc = time.time()\n",
    "print 'naive loss: %e computed in %fs' % (loss_naive, toc - tic)\n",
    "\n",
    "tic = time.time()\n",
    "loss_vectorized, grad_vectorized = softmax_loss_vectorized(W, X_dev, y_dev, 0.00001)\n",
    "toc = time.time()\n",
    "print 'vectorized loss: %e computed in %fs' % (loss_vectorized, toc - tic)\n",
    "\n",
    "# As we did for the SVM, we use the Frobenius norm to compare the two versions\n",
    "# of the gradient.\n",
    "grad_difference = np.linalg.norm(grad_naive - grad_vectorized, ord='fro')\n",
    "print 'Loss difference: %f' % np.abs(loss_naive - loss_vectorized)\n",
    "print 'Gradient difference: %f' % grad_difference"
   ]
  },
  {
   "cell_type": "code",
   "execution_count": 23,
   "metadata": {
    "collapsed": false
   },
   "outputs": [
    {
     "name": "stdout",
     "output_type": "stream",
     "text": [
      "iteration 0 / 1500: loss 768.733930\n",
      "iteration 100 / 1500: loss 761.970889\n",
      "iteration 200 / 1500: loss 756.609503\n",
      "iteration 300 / 1500: loss 751.779018\n",
      "iteration 400 / 1500: loss 746.849910\n",
      "iteration 500 / 1500: loss 742.142273\n",
      "iteration 600 / 1500: loss 737.477114\n",
      "iteration 700 / 1500: loss 733.036767\n",
      "iteration 800 / 1500: loss 728.837776\n",
      "iteration 900 / 1500: loss 724.677396\n",
      "iteration 1000 / 1500: loss 720.468184\n",
      "iteration 1100 / 1500: loss 715.754091\n",
      "iteration 1200 / 1500: loss 711.493504\n",
      "iteration 1300 / 1500: loss 707.578768\n",
      "iteration 1400 / 1500: loss 703.851276\n",
      "iteration 0 / 1500: loss 1518299.062595\n",
      "iteration 100 / 1500: loss 66.645525\n",
      "iteration 200 / 1500: loss 13.644387\n",
      "iteration 300 / 1500: loss 14.516829\n",
      "iteration 400 / 1500: loss 13.910719\n",
      "iteration 500 / 1500: loss 13.881225\n",
      "iteration 600 / 1500: loss 14.265329\n",
      "iteration 700 / 1500: loss 13.937094\n",
      "iteration 800 / 1500: loss 14.027924\n",
      "iteration 900 / 1500: loss 13.602018\n",
      "iteration 1000 / 1500: loss 14.056439\n",
      "iteration 1100 / 1500: loss 14.288709\n",
      "iteration 1200 / 1500: loss 13.098109\n",
      "iteration 1300 / 1500: loss 13.434084\n",
      "iteration 1400 / 1500: loss 13.378708\n",
      "iteration 0 / 1500: loss 771.056153\n",
      "iteration 100 / 1500: loss 743.675410\n",
      "iteration 200 / 1500: loss 721.353246\n",
      "iteration 300 / 1500: loss 701.076979\n",
      "iteration 400 / 1500: loss 681.710473\n",
      "iteration 500 / 1500: loss 662.509097\n",
      "iteration 600 / 1500: loss 644.774648\n",
      "iteration 700 / 1500: loss 627.449567\n",
      "iteration 800 / 1500: loss 610.628967\n",
      "iteration 900 / 1500: loss 594.164011\n",
      "iteration 1000 / 1500: loss 578.662366\n",
      "iteration 1100 / 1500: loss 563.619414\n",
      "iteration 1200 / 1500: loss 548.749745\n",
      "iteration 1300 / 1500: loss 534.593307\n",
      "iteration 1400 / 1500: loss 520.586060\n",
      "iteration 0 / 1500: loss 1531129.916188\n",
      "iteration 100 / 1500: loss 15.636145\n",
      "iteration 200 / 1500: loss 14.487763\n",
      "iteration 300 / 1500: loss 14.550747\n",
      "iteration 400 / 1500: loss 15.517873\n",
      "iteration 500 / 1500: loss 15.193366\n",
      "iteration 600 / 1500: loss 15.375333\n",
      "iteration 700 / 1500: loss 15.501399\n",
      "iteration 800 / 1500: loss 14.529758\n",
      "iteration 900 / 1500: loss 15.937389\n",
      "iteration 1000 / 1500: loss 14.936799\n",
      "iteration 1100 / 1500: loss 16.013694\n",
      "iteration 1200 / 1500: loss 16.522383\n",
      "iteration 1300 / 1500: loss 15.276539\n",
      "iteration 1400 / 1500: loss 14.292412\n",
      "lr 1.000000e-07 reg 5.000000e+04 train accuracy: 0.277673 val accuracy: 0.281000\n",
      "lr 1.000000e-07 reg 1.000000e+08 train accuracy: 0.278510 val accuracy: 0.289000\n",
      "lr 5.000000e-07 reg 5.000000e+04 train accuracy: 0.363245 val accuracy: 0.361000\n",
      "lr 5.000000e-07 reg 1.000000e+08 train accuracy: 0.244918 val accuracy: 0.239000\n",
      "(5e-07, 50000.0)\n"
     ]
    },
    {
     "ename": "TypeError",
     "evalue": "not all arguments converted during string formatting",
     "output_type": "error",
     "traceback": [
      "\u001b[0;31m----------------------------------------\u001b[0m",
      "\u001b[0;31mTypeError\u001b[0mTraceback (most recent call last)",
      "\u001b[0;32m<ipython-input-23-df8f78021018>\u001b[0m in \u001b[0;36m<module>\u001b[0;34m()\u001b[0m\n\u001b[1;32m     28\u001b[0m \u001b[0;32mprint\u001b[0m \u001b[0mbest_val\u001b[0m\u001b[0;34m\u001b[0m\u001b[0m\n\u001b[1;32m     29\u001b[0m \u001b[0;34m\u001b[0m\u001b[0m\n\u001b[0;32m---> 30\u001b[0;31m \u001b[0;32mprint\u001b[0m \u001b[0;34m'best validation accuracy achieved during cross-validation: %f'\u001b[0m \u001b[0;34m%\u001b[0m \u001b[0mbest_val\u001b[0m\u001b[0;34m\u001b[0m\u001b[0m\n\u001b[0m",
      "\u001b[0;31mTypeError\u001b[0m: not all arguments converted during string formatting"
     ]
    }
   ],
   "source": [
    "# Use the validation set to tune hyperparameters (regularization strength and\n",
    "# learning rate). You should experiment with different ranges for the learning\n",
    "# rates and regularization strengths; if you are careful you should be able to\n",
    "# get a classification accuracy of over 0.35 on the validation set.\n",
    "from cs231n.classifiers import Softmax\n",
    "results = {}\n",
    "best_val = -1\n",
    "best_softmax = None\n",
    "learning_rates = [1e-7, 5e-7]\n",
    "regularization_strengths = [5e4, 1e8]\n",
    "\n",
    "for lr in learning_rates:\n",
    "    for rs in regularization_strengths:\n",
    "        smax = Softmax()\n",
    "        loss_hist = smax.train(X_train, y_train, learning_rate=lr, reg=rs,\n",
    "                      num_iters=1500, verbose=True)\n",
    "        y_train_pred = smax.predict(X_train)\n",
    "        y_val_pred = smax.predict(X_val)\n",
    "        results[(lr,rs)] = (np.mean(y_train == y_train_pred), np.mean(y_val == y_val_pred))\n",
    "    \n",
    "# Print out results.\n",
    "for lr, reg in sorted(results):\n",
    "    train_accuracy, val_accuracy = results[(lr, reg)]\n",
    "    print 'lr %e reg %e train accuracy: %f val accuracy: %f' % (\n",
    "                lr, reg, train_accuracy, val_accuracy)\n",
    "    \n",
    "best_val = sorted(results.items(), key=lambda v: v[1])[-1][0]\n",
    "print best_val\n",
    "\n",
    "print 'best validation accuracy achieved during cross-validation:', best_val"
   ]
  },
  {
   "cell_type": "code",
   "execution_count": 24,
   "metadata": {
    "collapsed": false
   },
   "outputs": [
    {
     "name": "stdout",
     "output_type": "stream",
     "text": [
      "iteration 0 / 1500: loss 783.289554\n",
      "iteration 100 / 1500: loss 755.331072\n",
      "iteration 200 / 1500: loss 733.153677\n",
      "iteration 300 / 1500: loss 712.313152\n",
      "iteration 400 / 1500: loss 692.660160\n",
      "iteration 500 / 1500: loss 673.420643\n",
      "iteration 600 / 1500: loss 655.205787\n",
      "iteration 700 / 1500: loss 637.840896\n",
      "iteration 800 / 1500: loss 620.602508\n",
      "iteration 900 / 1500: loss 604.330842\n",
      "iteration 1000 / 1500: loss 588.255430\n",
      "iteration 1100 / 1500: loss 573.278530\n",
      "iteration 1200 / 1500: loss 557.580850\n",
      "iteration 1300 / 1500: loss 543.680655\n",
      "iteration 1400 / 1500: loss 529.296467\n",
      "softmax on raw pixels final test set accuracy: 0.359000\n"
     ]
    }
   ],
   "source": [
    "# evaluate on test set\n",
    "# Evaluate the best softmax on test set\n",
    "\n",
    "best_softmax = Softmax()\n",
    "loss_hist = best_softmax.train(X_train, y_train, learning_rate=best_val[0], reg=best_val[1],\n",
    "                               num_iters=1500, verbose=True)\n",
    "y_test_pred = best_softmax.predict(X_test)\n",
    "test_accuracy = np.mean(y_test == y_test_pred)\n",
    "print 'softmax on raw pixels final test set accuracy: %f' % (test_accuracy, )"
   ]
  },
  {
   "cell_type": "code",
   "execution_count": 25,
   "metadata": {
    "collapsed": false
   },
   "outputs": [
    {
     "data": {
      "image/png": "[encoded data removed]",
      "text/plain": [
       "<matplotlib.figure.Figure at 0x7fb3814e7d50>"
      ]
     },
     "metadata": {},
     "output_type": "display_data"
    }
   ],
   "source": [
    "# Visualize the learned weights for each class\n",
    "w = best_softmax.W[:-1,:] # strip out the bias\n",
    "w = w.reshape(32, 32, 3, 10)\n",
    "\n",
    "w_min, w_max = np.min(w), np.max(w)\n",
    "\n",
    "classes = ['plane', 'car', 'bird', 'cat', 'deer', 'dog', 'frog', 'horse', 'ship', 'truck']\n",
    "for i in xrange(10):\n",
    "  plt.subplot(2, 5, i + 1)\n",
    "  \n",
    "  # Rescale the weights to be between 0 and 255\n",
    "  wimg = 255.0 * (w[:, :, :, i].squeeze() - w_min) / (w_max - w_min)\n",
    "  plt.imshow(wimg.astype('uint8'))\n",
    "  plt.axis('off')\n",
    "  plt.title(classes[i])"
   ]
  },
  {
   "cell_type": "code",
   "execution_count": null,
   "metadata": {
    "collapsed": true
   },
   "outputs": [],
   "source": []
  }
 ],
 "metadata": {
  "kernelspec": {
   "display_name": "Python 2",
   "language": "python",
   "name": "python2"
  },
  "language_info": {
   "codemirror_mode": {
    "name": "ipython",
    "version": 2
   },
   "file_extension": ".py",
   "mimetype": "text/x-python",
   "name": "python",
   "nbconvert_exporter": "python",
   "pygments_lexer": "ipython2",
   "version": "2.7.12"
  }
 },
 "nbformat": 4,
 "nbformat_minor": 0
}
